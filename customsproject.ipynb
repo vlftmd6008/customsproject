{
 "cells": [
  {
   "cell_type": "code",
   "execution_count": null,
   "id": "6c6c7f6e",
   "metadata": {},
   "outputs": [
    {
     "name": "stdout",
     "output_type": "stream",
     "text": [
      "{'response': {'header': {'resultCode': '00', 'resultMsg': '정상서비스.'}, 'body': {'items': None}}}\n"
     ]
    }
   ],
   "source": [
    "import requests\n",
    "import xmltodict\n",
    "import os\n",
    "from dotenv import load_dotenv\n",
    "from urllib.parse import urlencode\n",
    "from urllib.parse import unquote\n",
    "\n",
    "load_dotenv()\n",
    "API_KEY = os.getenv(\"API_KEY1\")\n",
    "\n",
    "\n",
    "url = \"http://apis.data.go.kr/1220000/nnewtempertrade/getNnewtempertradeList\"\n",
    "\n",
    "headers = {\n",
    "    \"Content-Type\": \"application/xml\"\n",
    "}\n",
    "\n",
    "params = {\n",
    "    \"serviceKey\": API_KEY,\n",
    "    \"strtYymm\": \"202401\",  \n",
    "    \"endYymm\": \"202406\",  \n",
    "    \"imexTpcd\": \"2\",\n",
    "    \"imexTmprUnfcClsfCd\": \"11020102\",\n",
    "    \"cntyCd\": \"US\"          \n",
    "}\n",
    "\n",
    "response = requests.get(url, headers=headers, params=params)\n",
    "\n",
    "if response.status_code == 200:\n",
    "    data_dict = xmltodict.parse(response.text)\n",
    "    print(data_dict)\n",
    "else:\n",
    "    print(f\"API 요청 실패: {response.status_code}\")\n"
   ]
  }
 ],
 "metadata": {
  "kernelspec": {
   "display_name": "Python (customs-env)",
   "language": "python",
   "name": "myenv"
  },
  "language_info": {
   "codemirror_mode": {
    "name": "ipython",
    "version": 3
   },
   "file_extension": ".py",
   "mimetype": "text/x-python",
   "name": "python",
   "nbconvert_exporter": "python",
   "pygments_lexer": "ipython3",
   "version": "3.12.3"
  }
 },
 "nbformat": 4,
 "nbformat_minor": 5
}
